{
 "cells": [
  {
   "cell_type": "markdown",
   "metadata": {},
   "source": [
    "## Задания к занятию No9\n"
   ]
  },
  {
   "cell_type": "markdown",
   "metadata": {},
   "source": [
    "###  1. Найти dz/dt , если z = z(x; y), x = x(t), y = y(t):\n",
    "1. z = x^2 + y^2 + xy, x = asint, y = acost;"
   ]
  },
  {
   "cell_type": "markdown",
   "metadata": {},
   "source": [
    "dz/dt = dz/dx * dx/dt + dz/dy * dy/dt\n",
    "\n",
    "Здесь dz/dx и dz/dy - частные производные функции z(x,y), а dx/dt и dy/dt - производные функций x(t) и y(t) соответственно.\n",
    "\n",
    "найдем dz/dt для данного случая:\n",
    "\n",
    "z = x^2 + y^2 + xy = (asint)^2 + (acost)^2 + (asint)(acost)\n",
    "\n",
    "Частные производные:\n",
    "\n",
    "dz/dx = 2x + y = 2asint + acost\n",
    "dz/dy = 2y + x = 2acost + asint\n",
    "\n",
    "Производные:\n",
    "\n",
    "dx/dt = acos(t)\n",
    "dy/dt = -asin(t)\n",
    "\n",
    "подставим все значения в формулу для dz/dt:\n",
    "\n",
    "dz/dt = (2asint + acost) * acos(t) + (2acost + asint) * (-asin(t))\n",
    "\n",
    "далее\n",
    "\n",
    "dz/dt = 2asint * acos(t) - 2acost * asin(t)"
   ]
  },
  {
   "cell_type": "markdown",
   "metadata": {},
   "source": [
    "### 2. Для данных z = f(x; y), x = x(u; v), y = y(u; v) найти ∂z/∂u, ∂z/∂v и dz:\n",
    "1. z = x^3 + y^3, где x = uv, y =u/v"
   ]
  },
  {
   "cell_type": "markdown",
   "metadata": {},
   "source": [
    "∂z/∂u = ∂z/∂x * ∂x/∂u + ∂z/∂y * ∂y/∂u\n",
    "\n",
    "∂z/∂v = ∂z/∂x * ∂x/∂v + ∂z/∂y * ∂y/∂v\n",
    "\n",
    "Здесь ∂z/∂x, ∂z/∂y, ∂x/∂u, ∂x/∂v, ∂y/∂u, ∂y/∂v - частные производные соответствующих функций.\n",
    "\n",
    "найдем все необходимые частные производные и подставим их в формулы:\n",
    "\n",
    "z = x^3 + y^3 = (uv)^3 + (u/v)^3\n",
    "\n",
    "∂z/∂x = 3x^2 = 3(uv)^2\n",
    "∂z/∂y = 3y^2 = 3(u/v)^2\n",
    "∂x/∂u = v\n",
    "∂x/∂v = u\n",
    "∂y/∂u = 1/v\n",
    "∂y/∂v = -u/v^2\n",
    "\n",
    "∂z/∂u = ∂z/∂x * ∂x/∂u + ∂z/∂y * ∂y/∂u = 3(uv)^2 * v + 3(u/v)^2 * (1/v) = 3u^2v^3 + 3u/v^4\n",
    "\n",
    "∂z/∂v = ∂z/∂x * ∂x/∂v + ∂z/∂y * ∂y/∂v = 3(uv)^2 * u + 3(u/v)^2 * (-u/v^2) = 3u^4v - 3u^2/v\n",
    "\n",
    "далее:\n",
    "\n",
    "dz = ∂z/∂x * dx + ∂z/∂y * dy\n",
    "\n",
    "\n",
    "dz = 3(uv)^2 * duv + 3(u/v)^2 * (du/v - u * dv/v^2)\n",
    "\n",
    "\n",
    "dz = 3u^2v^3 * du + 3u^3 * dv/v^3\n",
    "\n"
   ]
  },
  {
   "cell_type": "markdown",
   "metadata": {},
   "source": [
    "### 3. Найти производные y'(x) неявных функций, заданных уравнениями: xe^(2y) − y ln x = 8."
   ]
  },
  {
   "cell_type": "markdown",
   "metadata": {},
   "source": [
    "\n",
    "\n",
    "Дифференцируя обе части по x, получаем:\n",
    "\n",
    "e^(2y) + xe^(2y) * 2y' - y/x = 0\n",
    "\n",
    "Выражаем y':\n",
    "\n",
    "e^(2y) * 2y' = y/x - e^(2y)\n",
    "\n",
    "y' = (1/2) * (y/x - e^(2y)) / e^(2y)\n",
    "\n",
    "Теперь можем подставить выражение для y из исходного уравнения и получить окончательный ответ для производной y'(x):\n",
    "\n",
    "y' = (1/2) * ((8 + y ln x)/x - e^(2y)) / e^(2y)"
   ]
  },
  {
   "cell_type": "markdown",
   "metadata": {},
   "source": [
    "### 4. Составить уравнение касательной прямой и нормали к кривой y = y(x), заданной уравнением F(x; y) = 0 в точке M0(x0; y0): x^3y − y^3x = 6, M0(2; 1)."
   ]
  },
  {
   "cell_type": "markdown",
   "metadata": {},
   "source": [
    "Находим производную y'(x) неявной функции y(x):\n",
    "x^3y - y^3x = 6\n",
    "\n",
    "3x^2y + x^3y' - 3y^2x - y^3 = 0\n",
    "\n",
    "y' = (3y^2x - x^2y) / (x^3 - 3x^2y)\n",
    "\n",
    "В точке M0(2;1) значение y'(2) можно найти, подставив x0=2 и y0=1 в полученное выражение для y':\n",
    "\n",
    "y'(2) = (31^22 - 2^21) / (2^3 - 32^2*1) = -1/4\n",
    "\n",
    "Находим уравнение касательной прямой, проходящей через точку M0(x0,y0) с угловым коэффициентом y'(x0):\n",
    "y - y0 = y'(x0) * (x - x0)\n",
    "\n",
    "Подставляем x0=2, y0=1, y'(2)=-1/4:\n",
    "\n",
    "y - 1 = (-1/4) * (x - 2)\n",
    "\n",
    "y = (-1/4) * x + 9/4 - уравнение касательной прямой\n",
    "\n",
    "Находим уравнение нормали к кривой в точке M0(x0,y0), которая перпендикулярна к касательной:\n",
    "y - y0 = (-1/y'(x0)) * (x - x0)\n",
    "\n",
    "Подставляем x0=2, y0=1, y'(2)=-1/4:\n",
    "\n",
    "y - 1 = 4 * (x - 2)\n",
    "\n",
    "y = 4x - 7 - уравнение нормали к кривой"
   ]
  },
  {
   "cell_type": "markdown",
   "metadata": {},
   "source": [
    "### 5. Для данных функций найти требуемую частную производную или дифференциал: 1. z = sin x sin y, d^2z; 2. z = xy + sin(x + y), (∂^2z)/(∂x^2) ;\n"
   ]
  },
  {
   "cell_type": "markdown",
   "metadata": {},
   "source": [
    "1. Чтобы найти второй дифференциал функции z = sin x sin y, необходимо сначала найти её первый дифференциал:\n",
    "dz = (∂z/∂x)dx + (∂z/∂y)dy\n",
    "= cos x sin y dx + sin x cos y dy\n",
    "\n",
    "Далее, найдём второй дифференциал:\n",
    "\n",
    "d^2z = d/dx (cos x sin y dx + sin x cos y dy)\n",
    "= (-sin x sin y dx + cos x cos y dy) dx + (cos x cos y dx - sin x sin y dy) dy\n",
    "= -sin x sin y dx^2 + cos x cos y dy^2\n",
    "\n",
    "Ответ: d^2z = -sin x sin y dx^2 + cos x cos y dy^2.\n",
    "\n",
    "2. Для нахождения второй частной производной ∂^2z/∂x^2 функции z = xy + sin(x + y) нужно дважды продифференцировать её по переменной x:\n",
    "∂z/∂x = y + cos(x + y)\n",
    "∂^2z/∂x^2 = -sin(x + y)\n",
    "\n",
    "Ответ: ∂^2z/∂x^2 = -sin(x + y)."
   ]
  }
 ],
 "metadata": {
  "kernelspec": {
   "display_name": "Python 3 (ipykernel)",
   "language": "python",
   "name": "python3"
  },
  "language_info": {
   "codemirror_mode": {
    "name": "ipython",
    "version": 3
   },
   "file_extension": ".py",
   "mimetype": "text/x-python",
   "name": "python",
   "nbconvert_exporter": "python",
   "pygments_lexer": "ipython3",
   "version": "3.9.12"
  }
 },
 "nbformat": 4,
 "nbformat_minor": 1
}
