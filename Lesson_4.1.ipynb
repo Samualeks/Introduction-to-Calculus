{
 "cells": [
  {
   "cell_type": "code",
   "execution_count": 2,
   "metadata": {
    "collapsed": true
   },
   "outputs": [
    {
     "data": {
      "text/html": [
       "<style>\n",
       "  body {text-align: left !important;}\n",
       "</style>\n",
       "\n",
       "\n"
      ],
      "text/plain": [
       "<IPython.core.display.HTML object>"
      ]
     },
     "metadata": {},
     "output_type": "display_data"
    }
   ],
   "source": []
  },
  {
   "cell_type": "markdown",
   "metadata": {},
   "source": [
    "## Задания к уроку No4\n"
   ]
  },
  {
   "cell_type": "markdown",
   "metadata": {},
   "source": [
    "### 1. Найти области определения функций:\n",
    "а) $$f(x) = ln(x + 2)$$"
   ]
  },
  {
   "cell_type": "markdown",
   "metadata": {},
   "source": [
    "$$ D(f) = (-2;\\infty) $$"
   ]
  },
  {
   "cell_type": "markdown",
   "metadata": {},
   "source": [
    "### 2. Найти пределы:\n",
    " "
   ]
  },
  {
   "cell_type": "markdown",
   "metadata": {},
   "source": [
    "1. $$ \\lim_{x \\to 5}\\frac{x^2-6x+5}{x^2-25} $$\n"
   ]
  },
  {
   "cell_type": "markdown",
   "metadata": {},
   "source": [
    " $$\\lim_{x \\to 5}\\frac{x^2-6x+5}{(x-5)(x+5)} $$ </br>\n",
    " $$ x^2-6x+5 $$ </br>\n",
    " $$ D = 16 \\space  {x_1} = 5; {x_2} = 1    $$ </br>\n",
    " $$ \\lim_{x \\to 5}\\frac{(x-5)(x-1)}{(x-5)(x+5)} = \\lim_{x \\to 5}\\frac{x-1}{x+5} = \\frac{2}{5} $$"
   ]
  },
  {
   "cell_type": "markdown",
   "metadata": {},
   "source": [
    "2. $$ \\lim_{x \\to -1}\\frac{x^3+x+2}{x^3+1} $$"
   ]
  },
  {
   "cell_type": "markdown",
   "metadata": {},
   "source": [
    "$$ \\lim_{x \\to -1} = \\frac{(x+1)(x^2-x+2)}{(x+1)(x^2-x+1)} = \\frac{4}{3}$$\n"
   ]
  },
  {
   "cell_type": "markdown",
   "metadata": {},
   "source": [
    "3. $$ \\lim_{x \\to 3}\\frac{\\sqrt{2x+3}-3}{\\sqrt{x-2}-1} $$\n"
   ]
  },
  {
   "cell_type": "markdown",
   "metadata": {},
   "source": [
    "$$ \\lim_{x \\to 3}\\frac{(\\sqrt{2x+3}-3)(\\sqrt{2x+3}+3)}{(\\sqrt{x-2}-1)(\\sqrt{2x+3}+3)} = $$\n",
    "$$ \\lim_{x \\to 3}\\frac{2(x-3)}{(\\sqrt{x-2}-1)(\\sqrt{2x+3}+3)} = $$\n",
    "$$ \\lim_{x \\to 3}\\frac{2(x-3)(\\sqrt{x-2}+1)}{(x-3)(\\sqrt{2x+3}+3)} = \\frac{2}{3} $$\n"
   ]
  },
  {
   "cell_type": "markdown",
   "metadata": {},
   "source": [
    "4. $$ \\lim_{x \\to 0}\\frac{1-\\cos{x}}{x^2}  $$"
   ]
  },
  {
   "cell_type": "markdown",
   "metadata": {},
   "source": [
    "$$ \\lim_{x \\to 0}\\frac{1-\\cos{(2\\frac{x}{2})}}{x^2} = $$\n",
    "$$ \\lim_{x \\to 0}\\frac{2 \\sin^2{\\frac{x}{2}}}{x^2} = $$\n",
    "$$ \\lim_{x \\to 0}\\frac{2 \\sin^2{\\frac{x}{2}}}{\\frac{4(x^2)}{4}} = $$\n",
    "$$ \\lim_{x \\to 0}\\frac{\\sin^2{\\frac{x}{2}}}{2(\\frac{x}{2})^2} = $$\n",
    "$$ \\frac{1}{2}\\lim_{x \\to 0}\\frac{\\sin^2{\\frac{x}{2}}}{(\\frac{x}{2})^2} = $$\n",
    "$$ \\frac{1}{2}\\lim_{x \\to 0}\\Biggl(\\frac{\\sin{\\frac{x}{2}}}{\\frac{x}{2}}\\Biggr)^2  $$ </br>\n",
    "$$ \\bigg|\\space t = \\frac{x}{2} \\quad t \\rightarrow 0 \\space \\bigg|$$ <br>\n",
    "$$ \\frac{1}{2}\\lim_{x \\to 0}\\Biggl(\\frac{\\sin{t}}{t}\\Biggr)^2 = \\frac{1}{2} * 1^2 = \\frac{1}{2} $$"
   ]
  },
  {
   "cell_type": "markdown",
   "metadata": {},
   "source": [
    "5. $$ \\lim_{x \\to 0}x*ctg{x} $$"
   ]
  },
  {
   "cell_type": "markdown",
   "metadata": {
    "pycharm": {
     "name": "#%% md\n"
    }
   },
   "source": [
    "$$ \\lim_{x \\to 0}x*\\frac{\\cos{x}}{\\sin{x}} = 1 * \\frac{1}{\\frac{\\sin{x}}{x}} = 1 $$\n"
   ]
  },
  {
   "cell_type": "markdown",
   "metadata": {},
   "source": [
    "6. $$ \\lim_{x \\to 0}\\sqrt[2x]{1+3x} $$"
   ]
  },
  {
   "cell_type": "markdown",
   "metadata": {},
   "source": [
    "$$ \\lim_{x \\to 0} (1 + 3x)^{\\frac{1}{2x * \\frac{3}{2}}*\\frac{3}{2}} = e^{\\frac{3}{2}} $$"
   ]
  },
  {
   "cell_type": "markdown",
   "metadata": {},
   "source": [
    "7. $$ \\lim_{x \\to 0} (\\frac{3+5x}{3+2x})^{\\frac{1}{x}} $$"
   ]
  },
  {
   "cell_type": "markdown",
   "metadata": {},
   "source": [
    "$$  \\lim_{x \\to 0} (\\frac{1+\\frac{5x}{3}}{1+\\frac{2x}{3}})^{\\frac{1}{x}}  $$ </br>\n",
    "$$  \\lim_{x \\to 0} (1 + \\frac{5x}{3})^{\\frac{5x}{3}* \\frac{1}{x}} = $$\n",
    "$$ \\lim_{x \\to 0} (1 + \\frac{5x}{3})^{\\frac{5}{3}} $$ </br>\n",
    "$$  \\lim_{x \\to 0} (1 + \\frac{2x}{3})^{\\frac{2x}{3}* \\frac{1}{x}} = $$\n",
    "$$ \\lim_{x \\to 0} (1 + \\frac{2x}{3})^{\\frac{2}{3}} $$ </br>\n",
    "$$ \\frac{e^{\\frac{5}{3}}}{e^{\\frac{2}{3}}} = e $$"
   ]
  },
  {
   "cell_type": "code",
   "execution_count": null,
   "metadata": {
    "pycharm": {
     "name": "#%%\n"
    }
   },
   "outputs": [],
   "source": []
  }
 ],
 "metadata": {
  "kernelspec": {
   "display_name": "Python 3 (ipykernel)",
   "language": "python",
   "name": "python3"
  },
  "language_info": {
   "codemirror_mode": {
    "name": "ipython",
    "version": 3
   },
   "file_extension": ".py",
   "mimetype": "text/x-python",
   "name": "python",
   "nbconvert_exporter": "python",
   "pygments_lexer": "ipython3",
   "version": "3.9.12"
  }
 },
 "nbformat": 4,
 "nbformat_minor": 1
}
